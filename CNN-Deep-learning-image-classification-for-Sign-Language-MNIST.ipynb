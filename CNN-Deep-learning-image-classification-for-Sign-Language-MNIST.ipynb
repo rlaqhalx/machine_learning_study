{
  "nbformat": 4,
  "nbformat_minor": 0,
  "metadata": {
    "colab": {
      "provenance": [],
      "include_colab_link": true
    },
    "kernelspec": {
      "name": "python3",
      "display_name": "Python 3"
    },
    "accelerator": "GPU"
  },
  "cells": [
    {
      "cell_type": "markdown",
      "metadata": {
        "id": "view-in-github",
        "colab_type": "text"
      },
      "source": [
        "<a href=\"https://colab.research.google.com/github/rlaqhalx/machine_learning_study/blob/main/CNN_Deep_learning_image_classification_for_Sign_Language_MNIST.ipynb\" target=\"_parent\"><img src=\"https://colab.research.google.com/assets/colab-badge.svg\" alt=\"Open In Colab\"/></a>"
      ]
    },
    {
      "cell_type": "markdown",
      "source": [
        "# Sign Language MNIST Image Classfication using CNN\n"
      ],
      "metadata": {
        "id": "82sgpqhRnjn3"
      }
    },
    {
      "cell_type": "markdown",
      "metadata": {
        "id": "I_strLH75R_x"
      },
      "source": [
        "# Downloading Dataset\n",
        "English alphabet sign language dataset\n",
        "\n",
        "https://www.kaggle.com/datamunge/sign-language-mnist"
      ]
    },
    {
      "cell_type": "code",
      "metadata": {
        "colab": {
          "base_uri": "https://localhost:8080/"
        },
        "id": "TzuxJtyRwqa5",
        "outputId": "7b00d60c-a4b1-4922-da8b-bc5849159205"
      },
      "source": [
        "!kaggle datasets download -d datamunge/sign-language-mnist"
      ],
      "execution_count": 2,
      "outputs": [
        {
          "output_type": "stream",
          "name": "stdout",
          "text": [
            "sign-language-mnist.zip: Skipping, found more recently modified local copy (use --force to force download)\n"
          ]
        }
      ]
    },
    {
      "cell_type": "code",
      "metadata": {
        "colab": {
          "base_uri": "https://localhost:8080/"
        },
        "id": "zkvISHBAwtTU",
        "outputId": "a00dcd5e-e48a-4252-9e3e-d94d45e4b8e0"
      },
      "source": [
        "!unzip sign-language-mnist.zip"
      ],
      "execution_count": 3,
      "outputs": [
        {
          "output_type": "stream",
          "name": "stdout",
          "text": [
            "Archive:  sign-language-mnist.zip\n",
            "replace amer_sign2.png? [y]es, [n]o, [A]ll, [N]one, [r]ename: y\n",
            "  inflating: amer_sign2.png          \n",
            "replace amer_sign3.png? [y]es, [n]o, [A]ll, [N]one, [r]ename: y\n",
            "  inflating: amer_sign3.png          \n",
            "replace american_sign_language.PNG? [y]es, [n]o, [A]ll, [N]one, [r]ename: y\n",
            "  inflating: american_sign_language.PNG  \n",
            "replace sign_mnist_test.csv? [y]es, [n]o, [A]ll, [N]one, [r]ename: y\n",
            "  inflating: sign_mnist_test.csv     \n",
            "replace sign_mnist_test/sign_mnist_test.csv? [y]es, [n]o, [A]ll, [N]one, [r]ename: y\n",
            "  inflating: sign_mnist_test/sign_mnist_test.csv  \n",
            "replace sign_mnist_train.csv? [y]es, [n]o, [A]ll, [N]one, [r]ename: y\n",
            "  inflating: sign_mnist_train.csv    \n",
            "replace sign_mnist_train/sign_mnist_train.csv? [y]es, [n]o, [A]ll, [N]one, [r]ename: y\n",
            "  inflating: sign_mnist_train/sign_mnist_train.csv  \n"
          ]
        }
      ]
    },
    {
      "cell_type": "markdown",
      "metadata": {
        "id": "B9G2lY7z5UZ9"
      },
      "source": [
        "# Importing Libaray"
      ]
    },
    {
      "cell_type": "markdown",
      "source": [
        "* Conv2D -> Convolution layer\n",
        "* MaxPooling2D -> subsampling\n",
        "* Flatten -> 2D feature map to 1D for dense layer\n",
        "* Dropout to avoid overfitting\n",
        "\n",
        "\n",
        "* ImageDataGenerator -> Image augmentation\n",
        "\n",
        "\n",
        "\n",
        "\n"
      ],
      "metadata": {
        "id": "fQ1ED8rOoRTC"
      }
    },
    {
      "cell_type": "code",
      "metadata": {
        "id": "j-tKAJLYwZ77"
      },
      "source": [
        "from tensorflow.keras.models import Model\n",
        "from tensorflow.keras.layers import Input, Dense, Conv2D, MaxPooling2D, Flatten, Dropout\n",
        "from tensorflow.keras.optimizers import Adam, SGD\n",
        "from tensorflow.keras.preprocessing.image import ImageDataGenerator\n",
        "import numpy as np\n",
        "import pandas as pd\n",
        "import matplotlib.pyplot as plt\n",
        "import seaborn as sns\n",
        "from sklearn.model_selection import train_test_split\n",
        "from sklearn.preprocessing import StandardScaler\n",
        "from sklearn.preprocessing import OneHotEncoder"
      ],
      "execution_count": 4,
      "outputs": []
    },
    {
      "cell_type": "markdown",
      "metadata": {
        "id": "knVE3qsZ5Vu1"
      },
      "source": [
        "# Loading dataset\n",
        "Train & Test set"
      ]
    },
    {
      "cell_type": "code",
      "metadata": {
        "colab": {
          "base_uri": "https://localhost:8080/",
          "height": 256
        },
        "id": "jTP5aXtBwlw-",
        "outputId": "d6e878e1-534a-41b9-f3f5-1fdddb896b71"
      },
      "source": [
        "train_df = pd.read_csv('sign_mnist_train.csv')\n",
        "\n",
        "train_df.head()"
      ],
      "execution_count": 5,
      "outputs": [
        {
          "output_type": "execute_result",
          "data": {
            "text/plain": [
              "   label  pixel1  pixel2  pixel3  pixel4  pixel5  pixel6  pixel7  pixel8  \\\n",
              "0      3     107     118     127     134     139     143     146     150   \n",
              "1      6     155     157     156     156     156     157     156     158   \n",
              "2      2     187     188     188     187     187     186     187     188   \n",
              "3      2     211     211     212     212     211     210     211     210   \n",
              "4     13     164     167     170     172     176     179     180     184   \n",
              "\n",
              "   pixel9  ...  pixel775  pixel776  pixel777  pixel778  pixel779  pixel780  \\\n",
              "0     153  ...       207       207       207       207       206       206   \n",
              "1     158  ...        69       149       128        87        94       163   \n",
              "2     187  ...       202       201       200       199       198       199   \n",
              "3     210  ...       235       234       233       231       230       226   \n",
              "4     185  ...        92       105       105       108       133       163   \n",
              "\n",
              "   pixel781  pixel782  pixel783  pixel784  \n",
              "0       206       204       203       202  \n",
              "1       175       103       135       149  \n",
              "2       198       195       194       195  \n",
              "3       225       222       229       163  \n",
              "4       157       163       164       179  \n",
              "\n",
              "[5 rows x 785 columns]"
            ],
            "text/html": [
              "\n",
              "  <div id=\"df-e97095b2-51fb-4c88-ac31-db497e3090b3\" class=\"colab-df-container\">\n",
              "    <div>\n",
              "<style scoped>\n",
              "    .dataframe tbody tr th:only-of-type {\n",
              "        vertical-align: middle;\n",
              "    }\n",
              "\n",
              "    .dataframe tbody tr th {\n",
              "        vertical-align: top;\n",
              "    }\n",
              "\n",
              "    .dataframe thead th {\n",
              "        text-align: right;\n",
              "    }\n",
              "</style>\n",
              "<table border=\"1\" class=\"dataframe\">\n",
              "  <thead>\n",
              "    <tr style=\"text-align: right;\">\n",
              "      <th></th>\n",
              "      <th>label</th>\n",
              "      <th>pixel1</th>\n",
              "      <th>pixel2</th>\n",
              "      <th>pixel3</th>\n",
              "      <th>pixel4</th>\n",
              "      <th>pixel5</th>\n",
              "      <th>pixel6</th>\n",
              "      <th>pixel7</th>\n",
              "      <th>pixel8</th>\n",
              "      <th>pixel9</th>\n",
              "      <th>...</th>\n",
              "      <th>pixel775</th>\n",
              "      <th>pixel776</th>\n",
              "      <th>pixel777</th>\n",
              "      <th>pixel778</th>\n",
              "      <th>pixel779</th>\n",
              "      <th>pixel780</th>\n",
              "      <th>pixel781</th>\n",
              "      <th>pixel782</th>\n",
              "      <th>pixel783</th>\n",
              "      <th>pixel784</th>\n",
              "    </tr>\n",
              "  </thead>\n",
              "  <tbody>\n",
              "    <tr>\n",
              "      <th>0</th>\n",
              "      <td>3</td>\n",
              "      <td>107</td>\n",
              "      <td>118</td>\n",
              "      <td>127</td>\n",
              "      <td>134</td>\n",
              "      <td>139</td>\n",
              "      <td>143</td>\n",
              "      <td>146</td>\n",
              "      <td>150</td>\n",
              "      <td>153</td>\n",
              "      <td>...</td>\n",
              "      <td>207</td>\n",
              "      <td>207</td>\n",
              "      <td>207</td>\n",
              "      <td>207</td>\n",
              "      <td>206</td>\n",
              "      <td>206</td>\n",
              "      <td>206</td>\n",
              "      <td>204</td>\n",
              "      <td>203</td>\n",
              "      <td>202</td>\n",
              "    </tr>\n",
              "    <tr>\n",
              "      <th>1</th>\n",
              "      <td>6</td>\n",
              "      <td>155</td>\n",
              "      <td>157</td>\n",
              "      <td>156</td>\n",
              "      <td>156</td>\n",
              "      <td>156</td>\n",
              "      <td>157</td>\n",
              "      <td>156</td>\n",
              "      <td>158</td>\n",
              "      <td>158</td>\n",
              "      <td>...</td>\n",
              "      <td>69</td>\n",
              "      <td>149</td>\n",
              "      <td>128</td>\n",
              "      <td>87</td>\n",
              "      <td>94</td>\n",
              "      <td>163</td>\n",
              "      <td>175</td>\n",
              "      <td>103</td>\n",
              "      <td>135</td>\n",
              "      <td>149</td>\n",
              "    </tr>\n",
              "    <tr>\n",
              "      <th>2</th>\n",
              "      <td>2</td>\n",
              "      <td>187</td>\n",
              "      <td>188</td>\n",
              "      <td>188</td>\n",
              "      <td>187</td>\n",
              "      <td>187</td>\n",
              "      <td>186</td>\n",
              "      <td>187</td>\n",
              "      <td>188</td>\n",
              "      <td>187</td>\n",
              "      <td>...</td>\n",
              "      <td>202</td>\n",
              "      <td>201</td>\n",
              "      <td>200</td>\n",
              "      <td>199</td>\n",
              "      <td>198</td>\n",
              "      <td>199</td>\n",
              "      <td>198</td>\n",
              "      <td>195</td>\n",
              "      <td>194</td>\n",
              "      <td>195</td>\n",
              "    </tr>\n",
              "    <tr>\n",
              "      <th>3</th>\n",
              "      <td>2</td>\n",
              "      <td>211</td>\n",
              "      <td>211</td>\n",
              "      <td>212</td>\n",
              "      <td>212</td>\n",
              "      <td>211</td>\n",
              "      <td>210</td>\n",
              "      <td>211</td>\n",
              "      <td>210</td>\n",
              "      <td>210</td>\n",
              "      <td>...</td>\n",
              "      <td>235</td>\n",
              "      <td>234</td>\n",
              "      <td>233</td>\n",
              "      <td>231</td>\n",
              "      <td>230</td>\n",
              "      <td>226</td>\n",
              "      <td>225</td>\n",
              "      <td>222</td>\n",
              "      <td>229</td>\n",
              "      <td>163</td>\n",
              "    </tr>\n",
              "    <tr>\n",
              "      <th>4</th>\n",
              "      <td>13</td>\n",
              "      <td>164</td>\n",
              "      <td>167</td>\n",
              "      <td>170</td>\n",
              "      <td>172</td>\n",
              "      <td>176</td>\n",
              "      <td>179</td>\n",
              "      <td>180</td>\n",
              "      <td>184</td>\n",
              "      <td>185</td>\n",
              "      <td>...</td>\n",
              "      <td>92</td>\n",
              "      <td>105</td>\n",
              "      <td>105</td>\n",
              "      <td>108</td>\n",
              "      <td>133</td>\n",
              "      <td>163</td>\n",
              "      <td>157</td>\n",
              "      <td>163</td>\n",
              "      <td>164</td>\n",
              "      <td>179</td>\n",
              "    </tr>\n",
              "  </tbody>\n",
              "</table>\n",
              "<p>5 rows × 785 columns</p>\n",
              "</div>\n",
              "    <div class=\"colab-df-buttons\">\n",
              "\n",
              "  <div class=\"colab-df-container\">\n",
              "    <button class=\"colab-df-convert\" onclick=\"convertToInteractive('df-e97095b2-51fb-4c88-ac31-db497e3090b3')\"\n",
              "            title=\"Convert this dataframe to an interactive table.\"\n",
              "            style=\"display:none;\">\n",
              "\n",
              "  <svg xmlns=\"http://www.w3.org/2000/svg\" height=\"24px\" viewBox=\"0 -960 960 960\">\n",
              "    <path d=\"M120-120v-720h720v720H120Zm60-500h600v-160H180v160Zm220 220h160v-160H400v160Zm0 220h160v-160H400v160ZM180-400h160v-160H180v160Zm440 0h160v-160H620v160ZM180-180h160v-160H180v160Zm440 0h160v-160H620v160Z\"/>\n",
              "  </svg>\n",
              "    </button>\n",
              "\n",
              "  <style>\n",
              "    .colab-df-container {\n",
              "      display:flex;\n",
              "      gap: 12px;\n",
              "    }\n",
              "\n",
              "    .colab-df-convert {\n",
              "      background-color: #E8F0FE;\n",
              "      border: none;\n",
              "      border-radius: 50%;\n",
              "      cursor: pointer;\n",
              "      display: none;\n",
              "      fill: #1967D2;\n",
              "      height: 32px;\n",
              "      padding: 0 0 0 0;\n",
              "      width: 32px;\n",
              "    }\n",
              "\n",
              "    .colab-df-convert:hover {\n",
              "      background-color: #E2EBFA;\n",
              "      box-shadow: 0px 1px 2px rgba(60, 64, 67, 0.3), 0px 1px 3px 1px rgba(60, 64, 67, 0.15);\n",
              "      fill: #174EA6;\n",
              "    }\n",
              "\n",
              "    .colab-df-buttons div {\n",
              "      margin-bottom: 4px;\n",
              "    }\n",
              "\n",
              "    [theme=dark] .colab-df-convert {\n",
              "      background-color: #3B4455;\n",
              "      fill: #D2E3FC;\n",
              "    }\n",
              "\n",
              "    [theme=dark] .colab-df-convert:hover {\n",
              "      background-color: #434B5C;\n",
              "      box-shadow: 0px 1px 3px 1px rgba(0, 0, 0, 0.15);\n",
              "      filter: drop-shadow(0px 1px 2px rgba(0, 0, 0, 0.3));\n",
              "      fill: #FFFFFF;\n",
              "    }\n",
              "  </style>\n",
              "\n",
              "    <script>\n",
              "      const buttonEl =\n",
              "        document.querySelector('#df-e97095b2-51fb-4c88-ac31-db497e3090b3 button.colab-df-convert');\n",
              "      buttonEl.style.display =\n",
              "        google.colab.kernel.accessAllowed ? 'block' : 'none';\n",
              "\n",
              "      async function convertToInteractive(key) {\n",
              "        const element = document.querySelector('#df-e97095b2-51fb-4c88-ac31-db497e3090b3');\n",
              "        const dataTable =\n",
              "          await google.colab.kernel.invokeFunction('convertToInteractive',\n",
              "                                                    [key], {});\n",
              "        if (!dataTable) return;\n",
              "\n",
              "        const docLinkHtml = 'Like what you see? Visit the ' +\n",
              "          '<a target=\"_blank\" href=https://colab.research.google.com/notebooks/data_table.ipynb>data table notebook</a>'\n",
              "          + ' to learn more about interactive tables.';\n",
              "        element.innerHTML = '';\n",
              "        dataTable['output_type'] = 'display_data';\n",
              "        await google.colab.output.renderOutput(dataTable, element);\n",
              "        const docLink = document.createElement('div');\n",
              "        docLink.innerHTML = docLinkHtml;\n",
              "        element.appendChild(docLink);\n",
              "      }\n",
              "    </script>\n",
              "  </div>\n",
              "\n",
              "\n",
              "<div id=\"df-2f8000ad-c0b6-4285-bee5-14d429bd08c1\">\n",
              "  <button class=\"colab-df-quickchart\" onclick=\"quickchart('df-2f8000ad-c0b6-4285-bee5-14d429bd08c1')\"\n",
              "            title=\"Suggest charts.\"\n",
              "            style=\"display:none;\">\n",
              "\n",
              "<svg xmlns=\"http://www.w3.org/2000/svg\" height=\"24px\"viewBox=\"0 0 24 24\"\n",
              "     width=\"24px\">\n",
              "    <g>\n",
              "        <path d=\"M19 3H5c-1.1 0-2 .9-2 2v14c0 1.1.9 2 2 2h14c1.1 0 2-.9 2-2V5c0-1.1-.9-2-2-2zM9 17H7v-7h2v7zm4 0h-2V7h2v10zm4 0h-2v-4h2v4z\"/>\n",
              "    </g>\n",
              "</svg>\n",
              "  </button>\n",
              "\n",
              "<style>\n",
              "  .colab-df-quickchart {\n",
              "      --bg-color: #E8F0FE;\n",
              "      --fill-color: #1967D2;\n",
              "      --hover-bg-color: #E2EBFA;\n",
              "      --hover-fill-color: #174EA6;\n",
              "      --disabled-fill-color: #AAA;\n",
              "      --disabled-bg-color: #DDD;\n",
              "  }\n",
              "\n",
              "  [theme=dark] .colab-df-quickchart {\n",
              "      --bg-color: #3B4455;\n",
              "      --fill-color: #D2E3FC;\n",
              "      --hover-bg-color: #434B5C;\n",
              "      --hover-fill-color: #FFFFFF;\n",
              "      --disabled-bg-color: #3B4455;\n",
              "      --disabled-fill-color: #666;\n",
              "  }\n",
              "\n",
              "  .colab-df-quickchart {\n",
              "    background-color: var(--bg-color);\n",
              "    border: none;\n",
              "    border-radius: 50%;\n",
              "    cursor: pointer;\n",
              "    display: none;\n",
              "    fill: var(--fill-color);\n",
              "    height: 32px;\n",
              "    padding: 0;\n",
              "    width: 32px;\n",
              "  }\n",
              "\n",
              "  .colab-df-quickchart:hover {\n",
              "    background-color: var(--hover-bg-color);\n",
              "    box-shadow: 0 1px 2px rgba(60, 64, 67, 0.3), 0 1px 3px 1px rgba(60, 64, 67, 0.15);\n",
              "    fill: var(--button-hover-fill-color);\n",
              "  }\n",
              "\n",
              "  .colab-df-quickchart-complete:disabled,\n",
              "  .colab-df-quickchart-complete:disabled:hover {\n",
              "    background-color: var(--disabled-bg-color);\n",
              "    fill: var(--disabled-fill-color);\n",
              "    box-shadow: none;\n",
              "  }\n",
              "\n",
              "  .colab-df-spinner {\n",
              "    border: 2px solid var(--fill-color);\n",
              "    border-color: transparent;\n",
              "    border-bottom-color: var(--fill-color);\n",
              "    animation:\n",
              "      spin 1s steps(1) infinite;\n",
              "  }\n",
              "\n",
              "  @keyframes spin {\n",
              "    0% {\n",
              "      border-color: transparent;\n",
              "      border-bottom-color: var(--fill-color);\n",
              "      border-left-color: var(--fill-color);\n",
              "    }\n",
              "    20% {\n",
              "      border-color: transparent;\n",
              "      border-left-color: var(--fill-color);\n",
              "      border-top-color: var(--fill-color);\n",
              "    }\n",
              "    30% {\n",
              "      border-color: transparent;\n",
              "      border-left-color: var(--fill-color);\n",
              "      border-top-color: var(--fill-color);\n",
              "      border-right-color: var(--fill-color);\n",
              "    }\n",
              "    40% {\n",
              "      border-color: transparent;\n",
              "      border-right-color: var(--fill-color);\n",
              "      border-top-color: var(--fill-color);\n",
              "    }\n",
              "    60% {\n",
              "      border-color: transparent;\n",
              "      border-right-color: var(--fill-color);\n",
              "    }\n",
              "    80% {\n",
              "      border-color: transparent;\n",
              "      border-right-color: var(--fill-color);\n",
              "      border-bottom-color: var(--fill-color);\n",
              "    }\n",
              "    90% {\n",
              "      border-color: transparent;\n",
              "      border-bottom-color: var(--fill-color);\n",
              "    }\n",
              "  }\n",
              "</style>\n",
              "\n",
              "  <script>\n",
              "    async function quickchart(key) {\n",
              "      const quickchartButtonEl =\n",
              "        document.querySelector('#' + key + ' button');\n",
              "      quickchartButtonEl.disabled = true;  // To prevent multiple clicks.\n",
              "      quickchartButtonEl.classList.add('colab-df-spinner');\n",
              "      try {\n",
              "        const charts = await google.colab.kernel.invokeFunction(\n",
              "            'suggestCharts', [key], {});\n",
              "      } catch (error) {\n",
              "        console.error('Error during call to suggestCharts:', error);\n",
              "      }\n",
              "      quickchartButtonEl.classList.remove('colab-df-spinner');\n",
              "      quickchartButtonEl.classList.add('colab-df-quickchart-complete');\n",
              "    }\n",
              "    (() => {\n",
              "      let quickchartButtonEl =\n",
              "        document.querySelector('#df-2f8000ad-c0b6-4285-bee5-14d429bd08c1 button');\n",
              "      quickchartButtonEl.style.display =\n",
              "        google.colab.kernel.accessAllowed ? 'block' : 'none';\n",
              "    })();\n",
              "  </script>\n",
              "</div>\n",
              "    </div>\n",
              "  </div>\n"
            ]
          },
          "metadata": {},
          "execution_count": 5
        }
      ]
    },
    {
      "cell_type": "code",
      "metadata": {
        "colab": {
          "base_uri": "https://localhost:8080/",
          "height": 256
        },
        "id": "vyA5zNokw9jd",
        "outputId": "11e4042e-07ef-463c-a19e-eae671455962"
      },
      "source": [
        "test_df = pd.read_csv('sign_mnist_test.csv')\n",
        "\n",
        "test_df.head()"
      ],
      "execution_count": 6,
      "outputs": [
        {
          "output_type": "execute_result",
          "data": {
            "text/plain": [
              "   label  pixel1  pixel2  pixel3  pixel4  pixel5  pixel6  pixel7  pixel8  \\\n",
              "0      6     149     149     150     150     150     151     151     150   \n",
              "1      5     126     128     131     132     133     134     135     135   \n",
              "2     10      85      88      92      96     105     123     135     143   \n",
              "3      0     203     205     207     206     207     209     210     209   \n",
              "4      3     188     191     193     195     199     201     202     203   \n",
              "\n",
              "   pixel9  ...  pixel775  pixel776  pixel777  pixel778  pixel779  pixel780  \\\n",
              "0     151  ...       138       148       127        89        82        96   \n",
              "1     136  ...        47       104       194       183       186       184   \n",
              "2     147  ...        68       166       242       227       230       227   \n",
              "3     210  ...       154       248       247       248       253       236   \n",
              "4     203  ...        26        40        64        48        29        46   \n",
              "\n",
              "   pixel781  pixel782  pixel783  pixel784  \n",
              "0       106       112       120       107  \n",
              "1       184       184       182       180  \n",
              "2       226       225       224       222  \n",
              "3       230       240       253       255  \n",
              "4        49        46        46        53  \n",
              "\n",
              "[5 rows x 785 columns]"
            ],
            "text/html": [
              "\n",
              "  <div id=\"df-9a4a95e6-318d-406a-bf03-8e861217f233\" class=\"colab-df-container\">\n",
              "    <div>\n",
              "<style scoped>\n",
              "    .dataframe tbody tr th:only-of-type {\n",
              "        vertical-align: middle;\n",
              "    }\n",
              "\n",
              "    .dataframe tbody tr th {\n",
              "        vertical-align: top;\n",
              "    }\n",
              "\n",
              "    .dataframe thead th {\n",
              "        text-align: right;\n",
              "    }\n",
              "</style>\n",
              "<table border=\"1\" class=\"dataframe\">\n",
              "  <thead>\n",
              "    <tr style=\"text-align: right;\">\n",
              "      <th></th>\n",
              "      <th>label</th>\n",
              "      <th>pixel1</th>\n",
              "      <th>pixel2</th>\n",
              "      <th>pixel3</th>\n",
              "      <th>pixel4</th>\n",
              "      <th>pixel5</th>\n",
              "      <th>pixel6</th>\n",
              "      <th>pixel7</th>\n",
              "      <th>pixel8</th>\n",
              "      <th>pixel9</th>\n",
              "      <th>...</th>\n",
              "      <th>pixel775</th>\n",
              "      <th>pixel776</th>\n",
              "      <th>pixel777</th>\n",
              "      <th>pixel778</th>\n",
              "      <th>pixel779</th>\n",
              "      <th>pixel780</th>\n",
              "      <th>pixel781</th>\n",
              "      <th>pixel782</th>\n",
              "      <th>pixel783</th>\n",
              "      <th>pixel784</th>\n",
              "    </tr>\n",
              "  </thead>\n",
              "  <tbody>\n",
              "    <tr>\n",
              "      <th>0</th>\n",
              "      <td>6</td>\n",
              "      <td>149</td>\n",
              "      <td>149</td>\n",
              "      <td>150</td>\n",
              "      <td>150</td>\n",
              "      <td>150</td>\n",
              "      <td>151</td>\n",
              "      <td>151</td>\n",
              "      <td>150</td>\n",
              "      <td>151</td>\n",
              "      <td>...</td>\n",
              "      <td>138</td>\n",
              "      <td>148</td>\n",
              "      <td>127</td>\n",
              "      <td>89</td>\n",
              "      <td>82</td>\n",
              "      <td>96</td>\n",
              "      <td>106</td>\n",
              "      <td>112</td>\n",
              "      <td>120</td>\n",
              "      <td>107</td>\n",
              "    </tr>\n",
              "    <tr>\n",
              "      <th>1</th>\n",
              "      <td>5</td>\n",
              "      <td>126</td>\n",
              "      <td>128</td>\n",
              "      <td>131</td>\n",
              "      <td>132</td>\n",
              "      <td>133</td>\n",
              "      <td>134</td>\n",
              "      <td>135</td>\n",
              "      <td>135</td>\n",
              "      <td>136</td>\n",
              "      <td>...</td>\n",
              "      <td>47</td>\n",
              "      <td>104</td>\n",
              "      <td>194</td>\n",
              "      <td>183</td>\n",
              "      <td>186</td>\n",
              "      <td>184</td>\n",
              "      <td>184</td>\n",
              "      <td>184</td>\n",
              "      <td>182</td>\n",
              "      <td>180</td>\n",
              "    </tr>\n",
              "    <tr>\n",
              "      <th>2</th>\n",
              "      <td>10</td>\n",
              "      <td>85</td>\n",
              "      <td>88</td>\n",
              "      <td>92</td>\n",
              "      <td>96</td>\n",
              "      <td>105</td>\n",
              "      <td>123</td>\n",
              "      <td>135</td>\n",
              "      <td>143</td>\n",
              "      <td>147</td>\n",
              "      <td>...</td>\n",
              "      <td>68</td>\n",
              "      <td>166</td>\n",
              "      <td>242</td>\n",
              "      <td>227</td>\n",
              "      <td>230</td>\n",
              "      <td>227</td>\n",
              "      <td>226</td>\n",
              "      <td>225</td>\n",
              "      <td>224</td>\n",
              "      <td>222</td>\n",
              "    </tr>\n",
              "    <tr>\n",
              "      <th>3</th>\n",
              "      <td>0</td>\n",
              "      <td>203</td>\n",
              "      <td>205</td>\n",
              "      <td>207</td>\n",
              "      <td>206</td>\n",
              "      <td>207</td>\n",
              "      <td>209</td>\n",
              "      <td>210</td>\n",
              "      <td>209</td>\n",
              "      <td>210</td>\n",
              "      <td>...</td>\n",
              "      <td>154</td>\n",
              "      <td>248</td>\n",
              "      <td>247</td>\n",
              "      <td>248</td>\n",
              "      <td>253</td>\n",
              "      <td>236</td>\n",
              "      <td>230</td>\n",
              "      <td>240</td>\n",
              "      <td>253</td>\n",
              "      <td>255</td>\n",
              "    </tr>\n",
              "    <tr>\n",
              "      <th>4</th>\n",
              "      <td>3</td>\n",
              "      <td>188</td>\n",
              "      <td>191</td>\n",
              "      <td>193</td>\n",
              "      <td>195</td>\n",
              "      <td>199</td>\n",
              "      <td>201</td>\n",
              "      <td>202</td>\n",
              "      <td>203</td>\n",
              "      <td>203</td>\n",
              "      <td>...</td>\n",
              "      <td>26</td>\n",
              "      <td>40</td>\n",
              "      <td>64</td>\n",
              "      <td>48</td>\n",
              "      <td>29</td>\n",
              "      <td>46</td>\n",
              "      <td>49</td>\n",
              "      <td>46</td>\n",
              "      <td>46</td>\n",
              "      <td>53</td>\n",
              "    </tr>\n",
              "  </tbody>\n",
              "</table>\n",
              "<p>5 rows × 785 columns</p>\n",
              "</div>\n",
              "    <div class=\"colab-df-buttons\">\n",
              "\n",
              "  <div class=\"colab-df-container\">\n",
              "    <button class=\"colab-df-convert\" onclick=\"convertToInteractive('df-9a4a95e6-318d-406a-bf03-8e861217f233')\"\n",
              "            title=\"Convert this dataframe to an interactive table.\"\n",
              "            style=\"display:none;\">\n",
              "\n",
              "  <svg xmlns=\"http://www.w3.org/2000/svg\" height=\"24px\" viewBox=\"0 -960 960 960\">\n",
              "    <path d=\"M120-120v-720h720v720H120Zm60-500h600v-160H180v160Zm220 220h160v-160H400v160Zm0 220h160v-160H400v160ZM180-400h160v-160H180v160Zm440 0h160v-160H620v160ZM180-180h160v-160H180v160Zm440 0h160v-160H620v160Z\"/>\n",
              "  </svg>\n",
              "    </button>\n",
              "\n",
              "  <style>\n",
              "    .colab-df-container {\n",
              "      display:flex;\n",
              "      gap: 12px;\n",
              "    }\n",
              "\n",
              "    .colab-df-convert {\n",
              "      background-color: #E8F0FE;\n",
              "      border: none;\n",
              "      border-radius: 50%;\n",
              "      cursor: pointer;\n",
              "      display: none;\n",
              "      fill: #1967D2;\n",
              "      height: 32px;\n",
              "      padding: 0 0 0 0;\n",
              "      width: 32px;\n",
              "    }\n",
              "\n",
              "    .colab-df-convert:hover {\n",
              "      background-color: #E2EBFA;\n",
              "      box-shadow: 0px 1px 2px rgba(60, 64, 67, 0.3), 0px 1px 3px 1px rgba(60, 64, 67, 0.15);\n",
              "      fill: #174EA6;\n",
              "    }\n",
              "\n",
              "    .colab-df-buttons div {\n",
              "      margin-bottom: 4px;\n",
              "    }\n",
              "\n",
              "    [theme=dark] .colab-df-convert {\n",
              "      background-color: #3B4455;\n",
              "      fill: #D2E3FC;\n",
              "    }\n",
              "\n",
              "    [theme=dark] .colab-df-convert:hover {\n",
              "      background-color: #434B5C;\n",
              "      box-shadow: 0px 1px 3px 1px rgba(0, 0, 0, 0.15);\n",
              "      filter: drop-shadow(0px 1px 2px rgba(0, 0, 0, 0.3));\n",
              "      fill: #FFFFFF;\n",
              "    }\n",
              "  </style>\n",
              "\n",
              "    <script>\n",
              "      const buttonEl =\n",
              "        document.querySelector('#df-9a4a95e6-318d-406a-bf03-8e861217f233 button.colab-df-convert');\n",
              "      buttonEl.style.display =\n",
              "        google.colab.kernel.accessAllowed ? 'block' : 'none';\n",
              "\n",
              "      async function convertToInteractive(key) {\n",
              "        const element = document.querySelector('#df-9a4a95e6-318d-406a-bf03-8e861217f233');\n",
              "        const dataTable =\n",
              "          await google.colab.kernel.invokeFunction('convertToInteractive',\n",
              "                                                    [key], {});\n",
              "        if (!dataTable) return;\n",
              "\n",
              "        const docLinkHtml = 'Like what you see? Visit the ' +\n",
              "          '<a target=\"_blank\" href=https://colab.research.google.com/notebooks/data_table.ipynb>data table notebook</a>'\n",
              "          + ' to learn more about interactive tables.';\n",
              "        element.innerHTML = '';\n",
              "        dataTable['output_type'] = 'display_data';\n",
              "        await google.colab.output.renderOutput(dataTable, element);\n",
              "        const docLink = document.createElement('div');\n",
              "        docLink.innerHTML = docLinkHtml;\n",
              "        element.appendChild(docLink);\n",
              "      }\n",
              "    </script>\n",
              "  </div>\n",
              "\n",
              "\n",
              "<div id=\"df-a978503c-fb32-4bcb-b9ec-541ac74d8727\">\n",
              "  <button class=\"colab-df-quickchart\" onclick=\"quickchart('df-a978503c-fb32-4bcb-b9ec-541ac74d8727')\"\n",
              "            title=\"Suggest charts.\"\n",
              "            style=\"display:none;\">\n",
              "\n",
              "<svg xmlns=\"http://www.w3.org/2000/svg\" height=\"24px\"viewBox=\"0 0 24 24\"\n",
              "     width=\"24px\">\n",
              "    <g>\n",
              "        <path d=\"M19 3H5c-1.1 0-2 .9-2 2v14c0 1.1.9 2 2 2h14c1.1 0 2-.9 2-2V5c0-1.1-.9-2-2-2zM9 17H7v-7h2v7zm4 0h-2V7h2v10zm4 0h-2v-4h2v4z\"/>\n",
              "    </g>\n",
              "</svg>\n",
              "  </button>\n",
              "\n",
              "<style>\n",
              "  .colab-df-quickchart {\n",
              "      --bg-color: #E8F0FE;\n",
              "      --fill-color: #1967D2;\n",
              "      --hover-bg-color: #E2EBFA;\n",
              "      --hover-fill-color: #174EA6;\n",
              "      --disabled-fill-color: #AAA;\n",
              "      --disabled-bg-color: #DDD;\n",
              "  }\n",
              "\n",
              "  [theme=dark] .colab-df-quickchart {\n",
              "      --bg-color: #3B4455;\n",
              "      --fill-color: #D2E3FC;\n",
              "      --hover-bg-color: #434B5C;\n",
              "      --hover-fill-color: #FFFFFF;\n",
              "      --disabled-bg-color: #3B4455;\n",
              "      --disabled-fill-color: #666;\n",
              "  }\n",
              "\n",
              "  .colab-df-quickchart {\n",
              "    background-color: var(--bg-color);\n",
              "    border: none;\n",
              "    border-radius: 50%;\n",
              "    cursor: pointer;\n",
              "    display: none;\n",
              "    fill: var(--fill-color);\n",
              "    height: 32px;\n",
              "    padding: 0;\n",
              "    width: 32px;\n",
              "  }\n",
              "\n",
              "  .colab-df-quickchart:hover {\n",
              "    background-color: var(--hover-bg-color);\n",
              "    box-shadow: 0 1px 2px rgba(60, 64, 67, 0.3), 0 1px 3px 1px rgba(60, 64, 67, 0.15);\n",
              "    fill: var(--button-hover-fill-color);\n",
              "  }\n",
              "\n",
              "  .colab-df-quickchart-complete:disabled,\n",
              "  .colab-df-quickchart-complete:disabled:hover {\n",
              "    background-color: var(--disabled-bg-color);\n",
              "    fill: var(--disabled-fill-color);\n",
              "    box-shadow: none;\n",
              "  }\n",
              "\n",
              "  .colab-df-spinner {\n",
              "    border: 2px solid var(--fill-color);\n",
              "    border-color: transparent;\n",
              "    border-bottom-color: var(--fill-color);\n",
              "    animation:\n",
              "      spin 1s steps(1) infinite;\n",
              "  }\n",
              "\n",
              "  @keyframes spin {\n",
              "    0% {\n",
              "      border-color: transparent;\n",
              "      border-bottom-color: var(--fill-color);\n",
              "      border-left-color: var(--fill-color);\n",
              "    }\n",
              "    20% {\n",
              "      border-color: transparent;\n",
              "      border-left-color: var(--fill-color);\n",
              "      border-top-color: var(--fill-color);\n",
              "    }\n",
              "    30% {\n",
              "      border-color: transparent;\n",
              "      border-left-color: var(--fill-color);\n",
              "      border-top-color: var(--fill-color);\n",
              "      border-right-color: var(--fill-color);\n",
              "    }\n",
              "    40% {\n",
              "      border-color: transparent;\n",
              "      border-right-color: var(--fill-color);\n",
              "      border-top-color: var(--fill-color);\n",
              "    }\n",
              "    60% {\n",
              "      border-color: transparent;\n",
              "      border-right-color: var(--fill-color);\n",
              "    }\n",
              "    80% {\n",
              "      border-color: transparent;\n",
              "      border-right-color: var(--fill-color);\n",
              "      border-bottom-color: var(--fill-color);\n",
              "    }\n",
              "    90% {\n",
              "      border-color: transparent;\n",
              "      border-bottom-color: var(--fill-color);\n",
              "    }\n",
              "  }\n",
              "</style>\n",
              "\n",
              "  <script>\n",
              "    async function quickchart(key) {\n",
              "      const quickchartButtonEl =\n",
              "        document.querySelector('#' + key + ' button');\n",
              "      quickchartButtonEl.disabled = true;  // To prevent multiple clicks.\n",
              "      quickchartButtonEl.classList.add('colab-df-spinner');\n",
              "      try {\n",
              "        const charts = await google.colab.kernel.invokeFunction(\n",
              "            'suggestCharts', [key], {});\n",
              "      } catch (error) {\n",
              "        console.error('Error during call to suggestCharts:', error);\n",
              "      }\n",
              "      quickchartButtonEl.classList.remove('colab-df-spinner');\n",
              "      quickchartButtonEl.classList.add('colab-df-quickchart-complete');\n",
              "    }\n",
              "    (() => {\n",
              "      let quickchartButtonEl =\n",
              "        document.querySelector('#df-a978503c-fb32-4bcb-b9ec-541ac74d8727 button');\n",
              "      quickchartButtonEl.style.display =\n",
              "        google.colab.kernel.accessAllowed ? 'block' : 'none';\n",
              "    })();\n",
              "  </script>\n",
              "</div>\n",
              "    </div>\n",
              "  </div>\n"
            ]
          },
          "metadata": {},
          "execution_count": 6
        }
      ]
    },
    {
      "cell_type": "markdown",
      "metadata": {
        "id": "JO-tOVOE3Pjd"
      },
      "source": [
        "# Label Distribution\n",
        "- Exclude 9=J and 25=Z because they involve actions.\n",
        "- There are a total of 24 labels."
      ]
    },
    {
      "cell_type": "code",
      "metadata": {
        "colab": {
          "base_uri": "https://localhost:8080/",
          "height": 657
        },
        "id": "If0PleoZxOrS",
        "outputId": "cbe09484-bd1e-4a3f-8790-66571957e92d"
      },
      "source": [
        "plt.figure(figsize=(16, 10))\n",
        "sns.countplot(x='label', data=train_df)\n",
        "plt.show()"
      ],
      "execution_count": 10,
      "outputs": [
        {
          "output_type": "display_data",
          "data": {
            "text/plain": [
              "<Figure size 1600x1000 with 1 Axes>"
            ],
            "image/png": "[encoded data removed]"
          },
          "metadata": {}
        }
      ]
    },
    {
      "cell_type": "markdown",
      "metadata": {
        "id": "wHS_uigx5YAk"
      },
      "source": [
        "# Data preprocessing\n",
        "\n",
        "## Divide dataset into x (input) & y (output)\n",
        "\n",
        "- converted size of x data to (28, 28, 1)\n",
        "\n",
        "The reason for this reshaping is because CNNs are designed to work with image data. They expect input data to have a specific structure - (Batch Size, Height, Width, Channels). This structure is crucial for the CNN to apply convolutional filters effectively.\n",
        "\n",
        "In summary, you need 2D for convolution calculation so input should be 3D!\n"
      ]
    },
    {
      "cell_type": "markdown",
      "source": [
        "1. -1 (Batch Size): This is a placeholder for an unknown number of samples in the dataset. By using -1, you're telling numpy to automatically calculate the necessary batch size that will fit the data.\n",
        "\n",
        "2. 28 (Height): Each image in the MNIST dataset is 28 pixels in height.\n",
        "\n",
        "3. 28 (Width): Each image in the MNIST dataset is 28 pixels in width.\n",
        "\n",
        "4. 1 (Channels): In this case, the images are grayscale, so there is only one color channel. For RGB images, you would have 3 channels (Red, Green, Blue)"
      ],
      "metadata": {
        "id": "ERdOEz9_seN1"
      }
    },
    {
      "cell_type": "code",
      "metadata": {
        "colab": {
          "base_uri": "https://localhost:8080/"
        },
        "id": "iZHyUQSJ0y1f",
        "outputId": "e28295ed-51ad-4250-e55c-e6eb10f58890"
      },
      "source": [
        "train_df = train_df.astype(np.float32)\n",
        "x_train = train_df.drop(columns=['label'], axis=1).values\n",
        "x_train = x_train.reshape((-1, 28, 28, 1))\n",
        "y_train = train_df[['label']].values\n",
        "\n",
        "test_df = test_df.astype(np.float32)\n",
        "x_test = test_df.drop(columns=['label'], axis=1).values\n",
        "x_test = x_test.reshape((-1, 28, 28, 1))\n",
        "y_test = test_df[['label']].values\n",
        "\n",
        "print(x_train.shape, y_train.shape)\n",
        "print(x_test.shape, y_test.shape)"
      ],
      "execution_count": 11,
      "outputs": [
        {
          "output_type": "stream",
          "name": "stdout",
          "text": [
            "(27455, 28, 28, 1) (27455, 1)\n",
            "(7172, 28, 28, 1) (7172, 1)\n"
          ]
        }
      ]
    },
    {
      "cell_type": "markdown",
      "metadata": {
        "id": "Vpi-VrGP72IZ"
      },
      "source": [
        "## Preview of data\n",
        "\n",
        "By reshaping to (28,28), Change the format to image format to show"
      ]
    },
    {
      "cell_type": "code",
      "metadata": {
        "colab": {
          "base_uri": "https://localhost:8080/",
          "height": 452
        },
        "id": "3zM9vnrD7fJZ",
        "outputId": "584a034f-b099-459c-b8ce-3193bf56c301"
      },
      "source": [
        "index = 1\n",
        "plt.title(str(y_train[index]))\n",
        "plt.imshow(x_train[index].reshape((28, 28)), cmap='gray')\n",
        "plt.show()"
      ],
      "execution_count": 12,
      "outputs": [
        {
          "output_type": "display_data",
          "data": {
            "text/plain": [
              "<Figure size 640x480 with 1 Axes>"
            ],
            "image/png": "[encoded data removed]"
          },
          "metadata": {}
        }
      ]
    },
    {
      "cell_type": "markdown",
      "metadata": {
        "id": "WGNAG69C5bqY"
      },
      "source": [
        "## One-hot encoding\n",
        "\n",
        "After one-hot encoding for y-value, it becomes 24 from 1\n",
        "\n",
        "(27455, 1) -> (27455, 24)\n",
        "(7172, 1) -> (7172, 24)"
      ]
    },
    {
      "cell_type": "code",
      "metadata": {
        "colab": {
          "base_uri": "https://localhost:8080/"
        },
        "id": "OLXr9xZy0pz6",
        "outputId": "40b77183-8cc3-4f7c-98f9-54f3265f7a43"
      },
      "source": [
        "encoder = OneHotEncoder()\n",
        "y_train = encoder.fit_transform(y_train).toarray()\n",
        "y_test = encoder.fit_transform(y_test).toarray()\n",
        "\n",
        "print(y_train.shape)"
      ],
      "execution_count": 13,
      "outputs": [
        {
          "output_type": "stream",
          "name": "stdout",
          "text": [
            "(27455, 24)\n"
          ]
        }
      ]
    },
    {
      "cell_type": "markdown",
      "metadata": {
        "id": "v9i18wWC5dCO"
      },
      "source": [
        "## Normalization\n",
        "Image data consists of pixels represented as integers ranging from 0 to 255 (unsigned integer 8-bit = uint8). I'll divide this by 255 to convert it into floating-point data ranging from 0 to 1 (floating point 32-bit = float32) and normalize it.\n",
        "\n",
        "Normalization for input (x value)\n",
        "\n"
      ]
    },
    {
      "cell_type": "markdown",
      "source": [
        "\n",
        "\n",
        "> ImageDataGenerator\n",
        "\n",
        "\n",
        "Instead of directly dividing it by 255, I used ImageDataGenerator() to normalize. 1/255 will be multiplied to each pixel. The pixel values are transformed from the range [0, 255] to [0, 1].\n",
        "\n",
        "Train_image_datagen is an instance of ImageDataGenerator. This class generates batches of augmented/normalized data from a set of images.\n"
      ],
      "metadata": {
        "id": "b2RRG725v26Y"
      }
    },
    {
      "cell_type": "markdown",
      "source": [
        "\n",
        "\n",
        "> flow\n",
        "\n",
        "1. train_datagen is the generator that will produce batches of augmented or normalized data during training.\n",
        "\n",
        "2. x=x_train specifies the input data (in this case, images) for the generator. y=y_train specifies the corresponding labels for the input data.\n",
        "\n",
        "3. batch_size=256 sets the number of samples in each batch that the generator will yield. In each iteration, the generator will provide a batch of 256 images and their corresponding labels.\n",
        "\n",
        "4. shuffle=True indicates that the data will be shuffled after each epoch. This is important for ensuring that the model doesn't learn any spurious patterns based on the order of the data.\n"
      ],
      "metadata": {
        "id": "quZr6_9exBRb"
      }
    },
    {
      "cell_type": "code",
      "metadata": {
        "id": "dG9MET2W2Qr_",
        "colab": {
          "base_uri": "https://localhost:8080/",
          "height": 452
        },
        "outputId": "13e75ca8-a392-47c2-e3b0-3761468bbd76"
      },
      "source": [
        "train_image_datagen = ImageDataGenerator(\n",
        "  rescale=1./255, # 일반화\n",
        ")\n",
        "\n",
        "train_datagen = train_image_datagen.flow(\n",
        "    x=x_train,\n",
        "    y=y_train,\n",
        "    batch_size=256,\n",
        "    shuffle=True\n",
        ")\n",
        "\n",
        "test_image_datagen = ImageDataGenerator(\n",
        "  rescale=1./255\n",
        ")\n",
        "\n",
        "test_datagen = test_image_datagen.flow(\n",
        "    x=x_test,\n",
        "    y=y_test,\n",
        "    batch_size=256,\n",
        "    shuffle=False\n",
        ")\n",
        "\n",
        "index = 1\n",
        "\n",
        "# selects a specific image from the first batch\n",
        "preview_img = train_datagen.__getitem__(0)[0][index]\n",
        "preview_label = train_datagen.__getitem__(0)[1][index]\n",
        "\n",
        "plt.imshow(preview_img.reshape((28, 28)))\n",
        "plt.title(str(preview_label))\n",
        "plt.show()"
      ],
      "execution_count": 14,
      "outputs": [
        {
          "output_type": "display_data",
          "data": {
            "text/plain": [
              "<Figure size 640x480 with 1 Axes>"
            ],
            "image/png": "[encoded data removed]"
          },
          "metadata": {}
        }
      ]
    },
    {
      "cell_type": "markdown",
      "metadata": {
        "id": "be8i2xdA5eu4"
      },
      "source": [
        "# Network Architecture"
      ]
    },
    {
      "cell_type": "markdown",
      "source": [
        "```\n",
        "input = Input(shape=(28, 28, 1))\n",
        "```\n",
        "\n",
        "The input shape is specified as (28, 28, 1), which means each input sample is a 2D grid of 28x28 pixels with a single color channel (grayscale).\n",
        "\n",
        "\n",
        "```\n",
        "hidden = Conv2D(filters=32, kernel_size=3, strides=1, padding='same', activation='relu')(input)\n",
        "hidden = MaxPooling2D(pool_size=2, strides=2)(hidden)\n",
        "\n",
        "hidden = Conv2D(filters=64, kernel_size=3, strides=1, padding='same', activation='relu')(hidden)\n",
        "hidden = MaxPooling2D(pool_size=2, strides=2)(hidden)\n",
        "\n",
        "hidden = Conv2D(filters=32, kernel_size=3, strides=1, padding='same', activation='relu')(hidden)\n",
        "hidden = MaxPooling2D(pool_size=2, strides=2)(hidden)\n",
        "```\n",
        "\n",
        "\n",
        "These lines define a series of convolutional and max pooling layers. Convolutional layers apply filters to detect patterns in the input data. Max pooling layers downsample the spatial dimensions\n",
        "\n",
        "Hidden layers:\n",
        "\n",
        "* Conv2D is a 2D convolutional layer. It applies a specified number of filters to the input data.\n",
        "\n",
        "* filters=32: the number of filters in the layer. Each filter learns to recognize different patterns or features in the input.\n",
        "\n",
        "* kernel_size=3: the size of the filters. 3x3 grid of pixels at a time.\n",
        "\n",
        "strides=1: how the filter \"steps\" across the input image.\n",
        "\n",
        "padding='same': dimension of output = input.\n",
        "\n",
        "activation='relu': activation functions in hidden layers of neural networks\n",
        "\n",
        "Max Pooling Layers:\n",
        "Reduces the spatial dimensions of the feature maps\n",
        "\n",
        "* pool_size=2: the size of the pooling window (2x2)\n",
        "\n",
        "strides=2: the step size of the pooling operation.\n",
        "\n",
        "*The convolutional layers learn to recognize different features in the images, and the max pooling layers downsample the spatial dimensions, reducing the number of parameters and computational complexity.*\n",
        "\n",
        "```\n",
        "hidden = Flatten()(hidden)\n",
        "```\n",
        "\n",
        "This flattens the output from the previous layers into a 1D array. This is necessary before transitioning to fully connected layers.\n",
        "\n",
        "\n",
        "```\n",
        "hidden = Dense(512, activation='relu')(hidden)\n",
        "```\n",
        "Fully connected layer\n",
        "\n",
        "```\n",
        "hidden = Dropout(rate=0.3)(hidden)\n",
        "```\n",
        "Dropout layer:  drop 30% of data to help prevent overfitting\n",
        "\n",
        "```\n",
        "output = Dense(24, activation='softmax')(hidden)\n",
        "```\n",
        "Output layer with 24 units and a softmax activation function, which outputs probabilities for each class.\n",
        "\n"
      ],
      "metadata": {
        "id": "jpAxjPg305wA"
      }
    },
    {
      "cell_type": "code",
      "metadata": {
        "colab": {
          "base_uri": "https://localhost:8080/"
        },
        "id": "xZ231JHHymZm",
        "outputId": "0f233805-294a-4255-94fd-1991921f68fb"
      },
      "source": [
        "input = Input(shape=(28, 28, 1))\n",
        "\n",
        "hidden = Conv2D(filters=32, kernel_size=3, strides=1, padding='same', activation='relu')(input)\n",
        "hidden = MaxPooling2D(pool_size=2, strides=2)(hidden)\n",
        "\n",
        "hidden = Conv2D(filters=64, kernel_size=3, strides=1, padding='same', activation='relu')(hidden)\n",
        "hidden = MaxPooling2D(pool_size=2, strides=2)(hidden)\n",
        "\n",
        "hidden = Conv2D(filters=32, kernel_size=3, strides=1, padding='same', activation='relu')(hidden)\n",
        "hidden = MaxPooling2D(pool_size=2, strides=2)(hidden)\n",
        "\n",
        "hidden = Flatten()(hidden)\n",
        "\n",
        "hidden = Dense(512, activation='relu')(hidden)\n",
        "\n",
        "hidden = Dropout(rate=0.3)(hidden)\n",
        "\n",
        "output = Dense(24, activation='softmax')(hidden)\n",
        "\n",
        "model = Model(inputs=input, outputs=output)\n",
        "\n",
        "model.compile(loss='categorical_crossentropy', optimizer=Adam(lr=0.001), metrics=['acc'])\n",
        "\n",
        "model.summary()"
      ],
      "execution_count": 15,
      "outputs": [
        {
          "output_type": "stream",
          "name": "stderr",
          "text": [
            "WARNING:absl:`lr` is deprecated in Keras optimizer, please use `learning_rate` or use the legacy optimizer, e.g.,tf.keras.optimizers.legacy.Adam.\n"
          ]
        },
        {
          "output_type": "stream",
          "name": "stdout",
          "text": [
            "Model: \"model\"\n",
            "_________________________________________________________________\n",
            " Layer (type)                Output Shape              Param #   \n",
            "=================================================================\n",
            " input_1 (InputLayer)        [(None, 28, 28, 1)]       0         \n",
            "                                                                 \n",
            " conv2d (Conv2D)             (None, 28, 28, 32)        320       \n",
            "                                                                 \n",
            " max_pooling2d (MaxPooling2  (None, 14, 14, 32)        0         \n",
            " D)                                                              \n",
            "                                                                 \n",
            " conv2d_1 (Conv2D)           (None, 14, 14, 64)        18496     \n",
            "                                                                 \n",
            " max_pooling2d_1 (MaxPoolin  (None, 7, 7, 64)          0         \n",
            " g2D)                                                            \n",
            "                                                                 \n",
            " conv2d_2 (Conv2D)           (None, 7, 7, 32)          18464     \n",
            "                                                                 \n",
            " max_pooling2d_2 (MaxPoolin  (None, 3, 3, 32)          0         \n",
            " g2D)                                                            \n",
            "                                                                 \n",
            " flatten (Flatten)           (None, 288)               0         \n",
            "                                                                 \n",
            " dense (Dense)               (None, 512)               147968    \n",
            "                                                                 \n",
            " dropout (Dropout)           (None, 512)               0         \n",
            "                                                                 \n",
            " dense_1 (Dense)             (None, 24)                12312     \n",
            "                                                                 \n",
            "=================================================================\n",
            "Total params: 197560 (771.72 KB)\n",
            "Trainable params: 197560 (771.72 KB)\n",
            "Non-trainable params: 0 (0.00 Byte)\n",
            "_________________________________________________________________\n"
          ]
        }
      ]
    },
    {
      "cell_type": "markdown",
      "metadata": {
        "id": "G2L6s6kH5gZm"
      },
      "source": [
        "# Training model"
      ]
    },
    {
      "cell_type": "markdown",
      "source": [
        "Instead of below\n",
        "\n",
        "```\n",
        "history = model.fit(\n",
        "    x_train,\n",
        "    y_train,\n",
        "    validation_data=(x_test, y_test),\n",
        "    epochs=20\n",
        ")\n",
        "```\n",
        "Used train_datagen and test_datagen (ImageDataGenerator instances that perform data augmentation & normalization)\n",
        "\n",
        "model.fit() with the generators instead of providing the raw arrays allows you to apply data augmentation and normalization on-the-fly as the data is fed into the model.\n",
        "\n",
        "memory-efficient and useful when working with large datasets\n",
        "\n"
      ],
      "metadata": {
        "id": "OHCr6_WU4CY7"
      }
    },
    {
      "cell_type": "code",
      "metadata": {
        "colab": {
          "base_uri": "https://localhost:8080/"
        },
        "id": "rmbApUVq2Xeg",
        "outputId": "23f4d1f3-97c7-408e-e71c-efcbca6ca650"
      },
      "source": [
        "history = model.fit(\n",
        "    train_datagen,\n",
        "    validation_data=test_datagen,\n",
        "    epochs=20\n",
        ")"
      ],
      "execution_count": 16,
      "outputs": [
        {
          "output_type": "stream",
          "name": "stdout",
          "text": [
            "Epoch 1/20\n",
            "108/108 [==============================] - 15s 21ms/step - loss: 2.1872 - acc: 0.3462 - val_loss: 1.0631 - val_acc: 0.6606\n",
            "Epoch 2/20\n",
            "108/108 [==============================] - 2s 17ms/step - loss: 0.5690 - acc: 0.8154 - val_loss: 0.4219 - val_acc: 0.8674\n",
            "Epoch 3/20\n",
            "108/108 [==============================] - 2s 17ms/step - loss: 0.1926 - acc: 0.9408 - val_loss: 0.2793 - val_acc: 0.9038\n",
            "Epoch 4/20\n",
            "108/108 [==============================] - 2s 18ms/step - loss: 0.0874 - acc: 0.9756 - val_loss: 0.2283 - val_acc: 0.9198\n",
            "Epoch 5/20\n",
            "108/108 [==============================] - 3s 24ms/step - loss: 0.0385 - acc: 0.9915 - val_loss: 0.2029 - val_acc: 0.9428\n",
            "Epoch 6/20\n",
            "108/108 [==============================] - 2s 18ms/step - loss: 0.0229 - acc: 0.9958 - val_loss: 0.2158 - val_acc: 0.9354\n",
            "Epoch 7/20\n",
            "108/108 [==============================] - 2s 17ms/step - loss: 0.0152 - acc: 0.9969 - val_loss: 0.2141 - val_acc: 0.9388\n",
            "Epoch 8/20\n",
            "108/108 [==============================] - 2s 17ms/step - loss: 0.0110 - acc: 0.9979 - val_loss: 0.2315 - val_acc: 0.9406\n",
            "Epoch 9/20\n",
            "108/108 [==============================] - 2s 17ms/step - loss: 0.0079 - acc: 0.9984 - val_loss: 0.2331 - val_acc: 0.9451\n",
            "Epoch 10/20\n",
            "108/108 [==============================] - 2s 23ms/step - loss: 0.0104 - acc: 0.9977 - val_loss: 0.2216 - val_acc: 0.9388\n",
            "Epoch 11/20\n",
            "108/108 [==============================] - 2s 18ms/step - loss: 0.0054 - acc: 0.9991 - val_loss: 0.2618 - val_acc: 0.9445\n",
            "Epoch 12/20\n",
            "108/108 [==============================] - 2s 17ms/step - loss: 0.0070 - acc: 0.9985 - val_loss: 0.2202 - val_acc: 0.9472\n",
            "Epoch 13/20\n",
            "108/108 [==============================] - 2s 17ms/step - loss: 0.0075 - acc: 0.9981 - val_loss: 0.1951 - val_acc: 0.9515\n",
            "Epoch 14/20\n",
            "108/108 [==============================] - 2s 17ms/step - loss: 0.0061 - acc: 0.9984 - val_loss: 0.2396 - val_acc: 0.9518\n",
            "Epoch 15/20\n",
            "108/108 [==============================] - 2s 17ms/step - loss: 0.0056 - acc: 0.9988 - val_loss: 0.2198 - val_acc: 0.9398\n",
            "Epoch 16/20\n",
            "108/108 [==============================] - 3s 24ms/step - loss: 0.0023 - acc: 0.9995 - val_loss: 0.2490 - val_acc: 0.9462\n",
            "Epoch 17/20\n",
            "108/108 [==============================] - 2s 17ms/step - loss: 0.0032 - acc: 0.9993 - val_loss: 0.2281 - val_acc: 0.9469\n",
            "Epoch 18/20\n",
            "108/108 [==============================] - 2s 18ms/step - loss: 0.0023 - acc: 0.9997 - val_loss: 0.2279 - val_acc: 0.9566\n",
            "Epoch 19/20\n",
            "108/108 [==============================] - 2s 17ms/step - loss: 0.0017 - acc: 0.9997 - val_loss: 0.2640 - val_acc: 0.9455\n",
            "Epoch 20/20\n",
            "108/108 [==============================] - 2s 17ms/step - loss: 0.0143 - acc: 0.9956 - val_loss: 0.2524 - val_acc: 0.9427\n"
          ]
        }
      ]
    },
    {
      "cell_type": "markdown",
      "metadata": {
        "id": "OioKPhfV64lE"
      },
      "source": [
        "# Training Result Graph"
      ]
    },
    {
      "cell_type": "code",
      "metadata": {
        "colab": {
          "base_uri": "https://localhost:8080/",
          "height": 364
        },
        "id": "HVo1lZGQ0nkE",
        "outputId": "c932a523-6902-41ac-e6ca-57fe5d2dd5f8"
      },
      "source": [
        "fig, axes = plt.subplots(1, 2, figsize=(20, 6))\n",
        "axes[0].plot(history.history['loss'], label='Training Loss')\n",
        "axes[0].plot(history.history['val_loss'], label='Validation Loss')\n",
        "\n",
        "axes[0].legend()\n",
        "axes[0].set_xlabel('Epochs')\n",
        "axes[0].set_ylabel('Accuracy')\n",
        "\n",
        "axes[1].plot(history.history['acc'], label='Training Accuracy')\n",
        "axes[1].plot(history.history['val_acc'], label='Validation Accuracy')\n",
        "\n",
        "axes[1].legend()\n",
        "\n",
        "axes[1].set_xlabel('Epochs')\n",
        "axes[1].set_ylabel('Loss')"
      ],
      "execution_count": 18,
      "outputs": [
        {
          "output_type": "execute_result",
          "data": {
            "text/plain": [
              "Text(0, 0.5, 'Loss')"
            ]
          },
          "metadata": {},
          "execution_count": 18
        },
        {
          "output_type": "display_data",
          "data": {
            "text/plain": [
              "<Figure size 2000x600 with 2 Axes>"
            ],
            "image/png": "[encoded data removed]"
          },
          "metadata": {}
        }
      ]
    },
    {
      "cell_type": "markdown",
      "metadata": {
        "id": "TV4k0txHsYsW"
      },
      "source": [
        "# Image Augmentation\n",
        "\n",
        "ImageDataGenerator instances perform data augmentation and normalization. The flow() method generates batches of normalized and augmented data.\n",
        "\n",
        "Data augmentation helps to prevent overfitting and improve the model's generalization capabilities."
      ]
    },
    {
      "cell_type": "code",
      "metadata": {
        "id": "-d3A6z2d6tiz",
        "colab": {
          "base_uri": "https://localhost:8080/",
          "height": 452
        },
        "outputId": "5e78b525-5c86-4fca-fa6c-64cda658dd2f"
      },
      "source": [
        "train_image_datagen = ImageDataGenerator(\n",
        "  rescale=1./255, # Normalization\n",
        "  rotation_range=10,  # Randomly rotate images (in degrees, 0-180)\n",
        "  zoom_range=0.1,      # Randomly zoom in on images (by a percentage)\n",
        "  width_shift_range=0.1,   # Randomly shift images horizontally (by a percentage)\n",
        "  height_shift_range=0.1   # Randomly shift images vertically (by a percentage)\n",
        ")\n",
        "\n",
        "train_datagen = train_image_datagen.flow(\n",
        "    x=x_train,\n",
        "    y=y_train,\n",
        "    batch_size=256,\n",
        "    shuffle=True\n",
        ")\n",
        "\n",
        "test_image_datagen = ImageDataGenerator(\n",
        "  rescale=1./255\n",
        ")\n",
        "\n",
        "test_datagen = test_image_datagen.flow(\n",
        "    x=x_test,\n",
        "    y=y_test,\n",
        "    batch_size=256,\n",
        "    shuffle=False\n",
        ")\n",
        "\n",
        "index = 1\n",
        "\n",
        "preview_img = train_datagen.__getitem__(0)[0][index]\n",
        "preview_label = train_datagen.__getitem__(0)[1][index]\n",
        "\n",
        "plt.imshow(preview_img.reshape((28, 28)))\n",
        "plt.title(str(preview_label))\n",
        "plt.show()"
      ],
      "execution_count": 20,
      "outputs": [
        {
          "output_type": "display_data",
          "data": {
            "text/plain": [
              "<Figure size 640x480 with 1 Axes>"
            ],
            "image/png": "[encoded data removed]"
          },
          "metadata": {}
        }
      ]
    },
    {
      "cell_type": "code",
      "metadata": {
        "colab": {
          "base_uri": "https://localhost:8080/"
        },
        "id": "4cNguVBPs8LZ",
        "outputId": "e249d94b-6aff-4205-dd40-0ffb833e43f8"
      },
      "source": [
        "input = Input(shape=(28, 28, 1))\n",
        "\n",
        "hidden = Conv2D(filters=32, kernel_size=3, strides=1, padding='same', activation='relu')(input)\n",
        "hidden = MaxPooling2D(pool_size=2, strides=2)(hidden)\n",
        "\n",
        "hidden = Conv2D(filters=64, kernel_size=3, strides=1, padding='same', activation='relu')(hidden)\n",
        "hidden = MaxPooling2D(pool_size=2, strides=2)(hidden)\n",
        "\n",
        "hidden = Conv2D(filters=32, kernel_size=3, strides=1, padding='same', activation='relu')(hidden)\n",
        "hidden = MaxPooling2D(pool_size=2, strides=2)(hidden)\n",
        "\n",
        "hidden = Flatten()(hidden)\n",
        "\n",
        "hidden = Dense(512, activation='relu')(hidden)\n",
        "\n",
        "hidden = Dropout(rate=0.3)(hidden)\n",
        "\n",
        "output = Dense(24, activation='softmax')(hidden)\n",
        "\n",
        "model = Model(inputs=input, outputs=output)\n",
        "\n",
        "model.compile(loss='categorical_crossentropy', optimizer=Adam(learning_rate=0.001), metrics=['acc'])\n",
        "\n",
        "model.summary()"
      ],
      "execution_count": 21,
      "outputs": [
        {
          "output_type": "stream",
          "name": "stdout",
          "text": [
            "Model: \"model_1\"\n",
            "_________________________________________________________________\n",
            " Layer (type)                Output Shape              Param #   \n",
            "=================================================================\n",
            " input_2 (InputLayer)        [(None, 28, 28, 1)]       0         \n",
            "                                                                 \n",
            " conv2d_3 (Conv2D)           (None, 28, 28, 32)        320       \n",
            "                                                                 \n",
            " max_pooling2d_3 (MaxPoolin  (None, 14, 14, 32)        0         \n",
            " g2D)                                                            \n",
            "                                                                 \n",
            " conv2d_4 (Conv2D)           (None, 14, 14, 64)        18496     \n",
            "                                                                 \n",
            " max_pooling2d_4 (MaxPoolin  (None, 7, 7, 64)          0         \n",
            " g2D)                                                            \n",
            "                                                                 \n",
            " conv2d_5 (Conv2D)           (None, 7, 7, 32)          18464     \n",
            "                                                                 \n",
            " max_pooling2d_5 (MaxPoolin  (None, 3, 3, 32)          0         \n",
            " g2D)                                                            \n",
            "                                                                 \n",
            " flatten_1 (Flatten)         (None, 288)               0         \n",
            "                                                                 \n",
            " dense_2 (Dense)             (None, 512)               147968    \n",
            "                                                                 \n",
            " dropout_1 (Dropout)         (None, 512)               0         \n",
            "                                                                 \n",
            " dense_3 (Dense)             (None, 24)                12312     \n",
            "                                                                 \n",
            "=================================================================\n",
            "Total params: 197560 (771.72 KB)\n",
            "Trainable params: 197560 (771.72 KB)\n",
            "Non-trainable params: 0 (0.00 Byte)\n",
            "_________________________________________________________________\n"
          ]
        }
      ]
    },
    {
      "cell_type": "code",
      "metadata": {
        "colab": {
          "base_uri": "https://localhost:8080/"
        },
        "id": "9ZX4OlpHvfuO",
        "outputId": "e9a8d2b8-2708-4155-f6a2-2762581f5baf"
      },
      "source": [
        "history = model.fit(\n",
        "    train_datagen,\n",
        "    validation_data=test_datagen,\n",
        "    epochs=20\n",
        ")"
      ],
      "execution_count": 22,
      "outputs": [
        {
          "output_type": "stream",
          "name": "stdout",
          "text": [
            "Epoch 1/20\n",
            "108/108 [==============================] - 12s 92ms/step - loss: 2.6113 - acc: 0.2111 - val_loss: 1.4124 - val_acc: 0.6115\n",
            "Epoch 2/20\n",
            "108/108 [==============================] - 10s 91ms/step - loss: 1.2544 - acc: 0.5973 - val_loss: 0.6863 - val_acc: 0.7620\n",
            "Epoch 3/20\n",
            "108/108 [==============================] - 10s 91ms/step - loss: 0.7504 - acc: 0.7483 - val_loss: 0.3546 - val_acc: 0.8858\n",
            "Epoch 4/20\n",
            "108/108 [==============================] - 9s 84ms/step - loss: 0.5116 - acc: 0.8295 - val_loss: 0.2521 - val_acc: 0.9235\n",
            "Epoch 5/20\n",
            "108/108 [==============================] - 9s 84ms/step - loss: 0.3925 - acc: 0.8707 - val_loss: 0.1750 - val_acc: 0.9427\n",
            "Epoch 6/20\n",
            "108/108 [==============================] - 10s 90ms/step - loss: 0.2838 - acc: 0.9054 - val_loss: 0.1082 - val_acc: 0.9692\n",
            "Epoch 7/20\n",
            "108/108 [==============================] - 10s 89ms/step - loss: 0.2460 - acc: 0.9176 - val_loss: 0.1210 - val_acc: 0.9583\n",
            "Epoch 8/20\n",
            "108/108 [==============================] - 11s 100ms/step - loss: 0.1918 - acc: 0.9398 - val_loss: 0.0603 - val_acc: 0.9848\n",
            "Epoch 9/20\n",
            "108/108 [==============================] - 13s 120ms/step - loss: 0.1673 - acc: 0.9443 - val_loss: 0.0581 - val_acc: 0.9851\n",
            "Epoch 10/20\n",
            "108/108 [==============================] - 9s 82ms/step - loss: 0.1319 - acc: 0.9576 - val_loss: 0.0766 - val_acc: 0.9702\n",
            "Epoch 11/20\n",
            "108/108 [==============================] - 10s 91ms/step - loss: 0.1139 - acc: 0.9631 - val_loss: 0.0538 - val_acc: 0.9828\n",
            "Epoch 12/20\n",
            "108/108 [==============================] - 10s 91ms/step - loss: 0.0972 - acc: 0.9682 - val_loss: 0.0433 - val_acc: 0.9848\n",
            "Epoch 13/20\n",
            "108/108 [==============================] - 10s 91ms/step - loss: 0.0830 - acc: 0.9733 - val_loss: 0.0273 - val_acc: 0.9930\n",
            "Epoch 14/20\n",
            "108/108 [==============================] - 10s 90ms/step - loss: 0.0737 - acc: 0.9764 - val_loss: 0.0284 - val_acc: 0.9932\n",
            "Epoch 15/20\n",
            "108/108 [==============================] - 9s 86ms/step - loss: 0.0715 - acc: 0.9772 - val_loss: 0.0365 - val_acc: 0.9916\n",
            "Epoch 16/20\n",
            "108/108 [==============================] - 10s 90ms/step - loss: 0.0623 - acc: 0.9800 - val_loss: 0.0202 - val_acc: 0.9940\n",
            "Epoch 17/20\n",
            "108/108 [==============================] - 10s 92ms/step - loss: 0.0553 - acc: 0.9816 - val_loss: 0.0255 - val_acc: 0.9927\n",
            "Epoch 18/20\n",
            "108/108 [==============================] - 10s 91ms/step - loss: 0.0554 - acc: 0.9816 - val_loss: 0.0223 - val_acc: 0.9932\n",
            "Epoch 19/20\n",
            "108/108 [==============================] - 12s 110ms/step - loss: 0.0568 - acc: 0.9822 - val_loss: 0.0286 - val_acc: 0.9909\n",
            "Epoch 20/20\n",
            "108/108 [==============================] - 10s 89ms/step - loss: 0.0507 - acc: 0.9843 - val_loss: 0.0176 - val_acc: 0.9929\n"
          ]
        }
      ]
    },
    {
      "cell_type": "code",
      "metadata": {
        "colab": {
          "base_uri": "https://localhost:8080/",
          "height": 364
        },
        "id": "kc6p25n1vhVC",
        "outputId": "45a4edc1-fde0-4353-a4cc-c27cabe68478"
      },
      "source": [
        "fig, axes = plt.subplots(1, 2, figsize=(20, 6))\n",
        "axes[0].plot(history.history['loss'], label='Training Loss')\n",
        "axes[0].plot(history.history['val_loss'], label='Validation Loss')\n",
        "\n",
        "axes[0].legend()\n",
        "axes[0].set_xlabel('Epochs')\n",
        "axes[0].set_ylabel('Accuracy')\n",
        "\n",
        "axes[1].plot(history.history['acc'], label='Training Accuracy')\n",
        "axes[1].plot(history.history['val_acc'], label='Validation Accuracy')\n",
        "\n",
        "axes[1].legend()\n",
        "\n",
        "axes[1].set_xlabel('Epochs')\n",
        "axes[1].set_ylabel('Loss')"
      ],
      "execution_count": 23,
      "outputs": [
        {
          "output_type": "execute_result",
          "data": {
            "text/plain": [
              "Text(0, 0.5, 'Loss')"
            ]
          },
          "metadata": {},
          "execution_count": 23
        },
        {
          "output_type": "display_data",
          "data": {
            "text/plain": [
              "<Figure size 2000x600 with 2 Axes>"
            ],
            "image/png": "[encoded data removed]"
          },
          "metadata": {}
        }
      ]
    },
    {
      "cell_type": "code",
      "metadata": {
        "id": "eYr_e_ZTwDMG"
      },
      "source": [],
      "execution_count": null,
      "outputs": []
    }
  ]
}
