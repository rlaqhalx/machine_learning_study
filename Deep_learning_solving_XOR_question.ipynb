{
  "nbformat": 4,
  "nbformat_minor": 0,
  "metadata": {
    "colab": {
      "provenance": [],
      "include_colab_link": true
    },
    "kernelspec": {
      "name": "python3",
      "display_name": "Python 3"
    }
  },
  "cells": [
    {
      "cell_type": "markdown",
      "metadata": {
        "id": "view-in-github",
        "colab_type": "text"
      },
      "source": [
        "<a href=\"https://colab.research.google.com/github/rlaqhalx/machine_learning_study/blob/main/Deep_learning_solving_XOR_question.ipynb\" target=\"_parent\"><img src=\"https://colab.research.google.com/assets/colab-badge.svg\" alt=\"Open In Colab\"/></a>"
      ]
    },
    {
      "cell_type": "code",
      "metadata": {
        "id": "cGl7tV6zYlP2"
      },
      "source": [
        "import numpy as np\n",
        "from tensorflow.keras.models import Sequential\n",
        "from tensorflow.keras.layers import Dense\n",
        "from tensorflow.keras.optimizers import Adam, SGD"
      ],
      "execution_count": 1,
      "outputs": []
    },
    {
      "cell_type": "markdown",
      "metadata": {
        "id": "IOZ3kGcNY8hP"
      },
      "source": [
        "# XOR Dataset\n",
        "\n",
        "OR and AND can be solved through linear regression. However, XOR could not be solved with linear line. So People used concept of MLP to solve this problem.\n",
        "\n",
        "![](https://i.imgur.com/llFchxI.png)"
      ]
    },
    {
      "cell_type": "code",
      "metadata": {
        "id": "WiXA_GyPY8Ea"
      },
      "source": [
        "x_data = np.array([[0, 0], [0, 1], [1, 0], [1, 1]], dtype=np.float32)\n",
        "y_data = np.array([[0], [1], [1], [0]], dtype=np.float32)"
      ],
      "execution_count": 2,
      "outputs": []
    },
    {
      "cell_type": "markdown",
      "metadata": {
        "id": "lLPGg54nYs86"
      },
      "source": [
        "# XOR Binary Logistic Regression\n",
        "\n",
        "I have tried to solve this problem using Binary Logistic Regression to see why and how it does not work for XOR question\n",
        "\n",
        "*verbose=0: This setting means that no output will be displayed during the training process. It runs silently without showing any progress or logs on the console*"
      ]
    },
    {
      "cell_type": "code",
      "metadata": {
        "colab": {
          "base_uri": "https://localhost:8080/"
        },
        "id": "oqpq8Z9UW5z7",
        "outputId": "ffa23b0f-da6c-4024-f41a-6889d6a53ec9"
      },
      "source": [
        "model = Sequential([\n",
        "  Dense(1, activation='sigmoid')\n",
        "])\n",
        "\n",
        "model.compile(loss='binary_crossentropy', optimizer=SGD(learning_rate=0.1))\n",
        "\n",
        "model.fit(x_data, y_data, epochs=1000, verbose=0)"
      ],
      "execution_count": 4,
      "outputs": [
        {
          "output_type": "execute_result",
          "data": {
            "text/plain": [
              "<keras.src.callbacks.History at 0x7e62e8f8c280>"
            ]
          },
          "metadata": {},
          "execution_count": 4
        }
      ]
    },
    {
      "cell_type": "markdown",
      "source": [
        "Model prediction was poor. It should be 0, 1, 1, 0 but all numbers are close to 0.5."
      ],
      "metadata": {
        "id": "s6Xz2HpyLdgI"
      }
    },
    {
      "cell_type": "code",
      "metadata": {
        "colab": {
          "base_uri": "https://localhost:8080/"
        },
        "id": "atwdM_sYXhJS",
        "outputId": "dd77a5d2-756a-415c-b507-5e753072fbf1"
      },
      "source": [
        "y_pred = model.predict(x_data)\n",
        "\n",
        "print(y_pred)"
      ],
      "execution_count": 5,
      "outputs": [
        {
          "output_type": "stream",
          "name": "stdout",
          "text": [
            "1/1 [==============================] - 0s 79ms/step\n",
            "[[0.5012214 ]\n",
            " [0.5006556 ]\n",
            " [0.4997278 ]\n",
            " [0.49916196]]\n"
          ]
        }
      ]
    },
    {
      "cell_type": "markdown",
      "metadata": {
        "id": "cI6To7CYYwcV"
      },
      "source": [
        "# XOR Deep learing(MLP)"
      ]
    },
    {
      "cell_type": "markdown",
      "source": [
        "I have used relu as activation function and this hidden layer will have 8 neurons."
      ],
      "metadata": {
        "id": "4yJ63fxoLyIw"
      }
    },
    {
      "cell_type": "code",
      "metadata": {
        "colab": {
          "base_uri": "https://localhost:8080/"
        },
        "id": "m7K9HNdkXuQS",
        "outputId": "507e0f79-c595-44ea-df39-fcce5e4f76e3"
      },
      "source": [
        "model = Sequential([\n",
        "  Dense(8, activation='relu'),\n",
        "  Dense(1, activation='sigmoid'),\n",
        "])\n",
        "\n",
        "model.compile(loss='binary_crossentropy', optimizer=SGD(learning_rate=0.1))\n",
        "\n",
        "model.fit(x_data, y_data, epochs=1000, verbose=0)"
      ],
      "execution_count": 6,
      "outputs": [
        {
          "output_type": "execute_result",
          "data": {
            "text/plain": [
              "<keras.src.callbacks.History at 0x7e62e8e14100>"
            ]
          },
          "metadata": {},
          "execution_count": 6
        }
      ]
    },
    {
      "cell_type": "code",
      "metadata": {
        "colab": {
          "base_uri": "https://localhost:8080/"
        },
        "id": "1exYIaf2X3Vm",
        "outputId": "9534c35a-4906-46be-ff1f-9853286316ce"
      },
      "source": [
        "y_pred = model.predict(x_data)\n",
        "\n",
        "print(y_pred)"
      ],
      "execution_count": 7,
      "outputs": [
        {
          "output_type": "stream",
          "name": "stdout",
          "text": [
            "1/1 [==============================] - 0s 50ms/step\n",
            "[[0.03667725]\n",
            " [0.9864899 ]\n",
            " [0.98732024]\n",
            " [0.00765591]]\n"
          ]
        }
      ]
    },
    {
      "cell_type": "markdown",
      "metadata": {
        "id": "nDHt2P5DaIMF"
      },
      "source": [
        "# Keras Functional API\n",
        "\n",
        "I have used the Sequential API in Keras. While the Sequential API is convenient for designing straightforward & squential models, in practice, the Functional API is primarily used because it allows for more complex network architectures.\n",
        "\n",
        "So far, we have been using the Sequential API in Keras. While the Sequential API is convenient for designing straightforward models, in practical applications, the Functional API is primarily used because it allows for more complex network architectures.\n",
        "\n",
        "So I rewrote the XOR deep learning problem using the Functional API below.\n"
      ]
    },
    {
      "cell_type": "markdown",
      "source": [
        "Note that I have imported Model and Input from keras libary for Functional API"
      ],
      "metadata": {
        "id": "qF3OlOh1Mlfs"
      }
    },
    {
      "cell_type": "code",
      "metadata": {
        "id": "esLNf0O9aoG0"
      },
      "source": [
        "import numpy as np\n",
        "from tensorflow.keras.models import Sequential, Model\n",
        "from tensorflow.keras.layers import Dense, Input\n",
        "from tensorflow.keras.optimizers import Adam, SGD"
      ],
      "execution_count": 8,
      "outputs": []
    },
    {
      "cell_type": "markdown",
      "metadata": {
        "id": "B5vfGC5EbYUF"
      },
      "source": [
        "I used model.summary() to check the structure of the model.\n",
        "\n",
        "While it can be challenging to inspect the structure when using the Sequential API, one advantage of using the Functional API is that it makes it easy to check the structure using model.summary()."
      ]
    },
    {
      "cell_type": "markdown",
      "source": [
        "\n",
        "1. Defining Input Layer\n",
        "```\n",
        "input = Input(shape=(2,))\n",
        "```\n",
        "This creates an input layer for the network. It specifies that the input data will have two features (shape=(2,)).\n",
        "\n",
        "* (2,) denotes that the input data is expected to have two features while data looks like this: x_data = np.array([[0, 0], [0, 1], [1, 0], [1, 1]], dtype=np.float32)\n",
        "\n",
        "\n",
        "2. Defining Hidden Layer:\n",
        "```\n",
        "hidden = Dense(8, activation='relu')(input)\n",
        "```\n",
        "This creates a hidden layer with 8 neurons and ReLU activation function. The input to this layer is the input layer defined earlier.\n",
        "\n",
        "3. Defining Output Layer:\n",
        "```\n",
        "output = Dense(1, activation='sigmoid')(hidden)\n",
        "```\n",
        "This creates the output layer with 1 neuron and a sigmoid activation function. The input to this layer is the hidden layer.\n",
        "\n",
        "* The sigmoid activation function is commonly used in the output layer of binary classification problems. It squashes the output values between 0 and 1, which can be interpreted as probabilities.\n",
        "* In multi-class classification, you might use a softmax activation function in the output layer. This extends the concept of sigmoid to handle multiple classes by providing a probability distribution over all the classes.\n",
        "\n",
        "4. Creating the Model:\n",
        "```\n",
        "model = Model(inputs=input, outputs=output)\n",
        "```\n",
        "This statement establishes the overall structure of the neural network. It specifies that the input is the input layer, and the output is the output layer.\n",
        "\n",
        "5. Compiling the Model:\n",
        "```\n",
        "model.compile(loss='binary_crossentropy', optimizer=SGD(learning_rate=0.1))\n",
        "```\n",
        "This configures the model for training. It specifies the loss function (binary_crossentropy for binary classification), and the optimizer (SGD with a learning rate of 0.1).\n",
        "\n",
        "6. Inspecting the Model:\n",
        "```\n",
        "model.summary()\n",
        "```\n",
        "This command prints a summary of the model's architecture, showing the number of parameters in each layer and the overall structure.\n"
      ],
      "metadata": {
        "id": "kvy8DfzBNGPy"
      }
    },
    {
      "cell_type": "code",
      "metadata": {
        "colab": {
          "base_uri": "https://localhost:8080/"
        },
        "id": "HunEvs9faHfD",
        "outputId": "0a8e6fb8-e2a1-4c59-9419-2fe3fcd6c3e4"
      },
      "source": [
        "input = Input(shape=(2,))\n",
        "hidden = Dense(8, activation='relu')(input)\n",
        "output = Dense(1, activation='sigmoid')(hidden)\n",
        "\n",
        "model = Model(inputs=input, outputs=output)\n",
        "\n",
        "model.compile(loss='binary_crossentropy', optimizer=SGD(learning_rate=0.1))\n",
        "\n",
        "model.summary()"
      ],
      "execution_count": 9,
      "outputs": [
        {
          "output_type": "stream",
          "name": "stdout",
          "text": [
            "Model: \"model\"\n",
            "_________________________________________________________________\n",
            " Layer (type)                Output Shape              Param #   \n",
            "=================================================================\n",
            " input_1 (InputLayer)        [(None, 2)]               0         \n",
            "                                                                 \n",
            " dense_4 (Dense)             (None, 8)                 24        \n",
            "                                                                 \n",
            " dense_5 (Dense)             (None, 1)                 9         \n",
            "                                                                 \n",
            "=================================================================\n",
            "Total params: 33 (132.00 Byte)\n",
            "Trainable params: 33 (132.00 Byte)\n",
            "Non-trainable params: 0 (0.00 Byte)\n",
            "_________________________________________________________________\n"
          ]
        }
      ]
    },
    {
      "cell_type": "markdown",
      "source": [
        "Finally do model.fit and model.predict(x_data) to see how well y has been predicted"
      ],
      "metadata": {
        "id": "n0foKfxZPp8b"
      }
    },
    {
      "cell_type": "code",
      "metadata": {
        "colab": {
          "base_uri": "https://localhost:8080/"
        },
        "id": "p-a-DOJDX6tH",
        "outputId": "19c3db62-2b54-46ff-ff80-062705be3a84"
      },
      "source": [
        "model.fit(x_data, y_data, epochs=1000, verbose=0)\n",
        "\n",
        "y_pred = model.predict(x_data)\n",
        "\n",
        "print(y_pred)"
      ],
      "execution_count": 10,
      "outputs": [
        {
          "output_type": "stream",
          "name": "stdout",
          "text": [
            "1/1 [==============================] - 0s 59ms/step\n",
            "[[0.07183885]\n",
            " [0.98805887]\n",
            " [0.9872562 ]\n",
            " [0.00680454]]\n"
          ]
        }
      ]
    },
    {
      "cell_type": "code",
      "metadata": {
        "id": "MCKDXGjJbD1X"
      },
      "source": [],
      "execution_count": null,
      "outputs": []
    }
  ]
}